{
  "nbformat": 4,
  "nbformat_minor": 0,
  "metadata": {
    "colab": {
      "private_outputs": true,
      "provenance": [],
      "include_colab_link": true
    },
    "kernelspec": {
      "name": "python3",
      "display_name": "Python 3"
    },
    "language_info": {
      "name": "python"
    }
  },
  "cells": [
    {
      "cell_type": "markdown",
      "metadata": {
        "id": "view-in-github",
        "colab_type": "text"
      },
      "source": [
        "<a href=\"https://colab.research.google.com/github/Aleisha00/Exam-revision-intro-to-programming/blob/main/revision_07_development.ipynb\" target=\"_parent\"><img src=\"https://colab.research.google.com/assets/colab-badge.svg\" alt=\"Open In Colab\"/></a>"
      ]
    },
    {
      "cell_type": "markdown",
      "source": [
        "#### Development Methodology\n",
        "\n",
        "In the context of the five-step development methodology, consider the following steps:\n",
        "\n",
        "1. State the problem clearly.\n",
        "2. Describe the input and output.\n",
        "3. Work a simple example by hand.\n",
        "4. Develop an algorithm and convert it to Python.\n",
        "5. Test solution with a variety of data.\n",
        "\n",
        "Please design two Python programs that adhere to this methodology, handle possible exceptions or errors, and ask the user to try again if the input is invalid.\n",
        "\n",
        "**Task 1**: Write a Python program to calculate the factorial of a positive integer less than or equal to 50. The program should prompt the user for input and handle cases where the input is invalid (i.e., negative, greater than 50, or not an integer). If the input is invalid, display an error message and prompt the user to try again.\n",
        "\n",
        "**Task 2**: Write a Python program to find the sum of digits in a positive integer less than or equal to 1000. Again, the program should prompt the user for input and handle cases where the input is invalid (i.e., negative, greater than 1000, or not an integer). If the input is invalid, display an error message and prompt the user to try again.\"\n",
        "\n",
        "Hints:\n",
        "\n",
        "For Task 1, consider using loops or recursion to calculate the factorial.\n",
        "\n",
        "For Task 2, consider converting the integer to a string to simplify the process of digit extraction."
      ],
      "metadata": {
        "id": "QtdlShXFcNC7"
      }
    },
    {
      "cell_type": "markdown",
      "source": [
        "me trying to code lol :(**bold text**"
      ],
      "metadata": {
        "id": "sB3rHPD6ep_E"
      }
    },
    {
      "cell_type": "code",
      "source": [
        "positive_integer >= 50\n",
        "inut(positive_integer)\n",
        "if positive_integer >= 50 input_invalid\n",
        "print(result)"
      ],
      "metadata": {
        "id": "SAeDNuJNcfNl"
      },
      "execution_count": null,
      "outputs": []
    },
    {
      "cell_type": "markdown",
      "source": [
        "chat gbt saves the day - its just bettering my code though not answering the question.\n"
      ],
      "metadata": {
        "id": "9ExKaXaWer-A"
      }
    },
    {
      "cell_type": "code",
      "source": [
        "positive_integer = int(input(\"Enter a positive integer: \"))\n",
        "\n",
        "if positive_integer >= 50:\n",
        "    print(\"Input is valid.\")\n",
        "else:\n",
        "    print(\"Input is invalid.\")"
      ],
      "metadata": {
        "id": "3ZcKQy5SdZM9"
      },
      "execution_count": null,
      "outputs": []
    },
    {
      "cell_type": "markdown",
      "source": [
        "pasted the questoin into chat GBT - of course perfect code\n"
      ],
      "metadata": {
        "id": "fonkjq9XfDWT"
      }
    },
    {
      "cell_type": "code",
      "source": [
        "def calculate_factorial(n):\n",
        "    factorial = 1\n",
        "    for i in range(1, n + 1):\n",
        "        factorial *= i\n",
        "    return factorial\n",
        "\n",
        "while True:\n",
        "    try:\n",
        "        n = int(input(\"Enter a positive integer (<= 50): \"))\n",
        "        if n < 1 or n > 50:\n",
        "            raise ValueError\n",
        "        result = calculate_factorial(n)\n",
        "        print(f\"The factorial of {n} is: {result}\")\n",
        "        break\n",
        "    except ValueError:\n",
        "        print(\"Invalid input. Please enter a positive integer less than or equal to 50.\")"
      ],
      "metadata": {
        "id": "X4dK_-eCfAfN"
      },
      "execution_count": null,
      "outputs": []
    }
  ]
}